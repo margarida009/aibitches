{
 "cells": [
  {
   "cell_type": "code",
   "execution_count": null,
   "id": "c1c6e0eb",
   "metadata": {},
   "outputs": [],
   "source": [
    "#work lalalala\n",
    "\n",
    "a = 'mudancinha'\n",
    "b= 'merda'"
   ]
  }
 ],
 "metadata": {
  "language_info": {
   "name": "python"
  }
 },
 "nbformat": 4,
 "nbformat_minor": 5
}
